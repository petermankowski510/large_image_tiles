{
 "cells": [
  {
   "cell_type": "code",
   "execution_count": 2,
   "id": "ae625740",
   "metadata": {},
   "outputs": [],
   "source": [
    "# https://youtu.be/7IL7LKSLb9I\n",
    "\"\"\"\n",
    "pip install patchify\n",
    "\"\"\"\n",
    "import os\n",
    "import glob\n",
    "import numpy as np\n",
    "from matplotlib import pyplot as plt\n",
    "from patchify import patchify\n",
    "import tifffile as tiff"
   ]
  },
  {
   "cell_type": "code",
   "execution_count": 5,
   "id": "46ac41ea",
   "metadata": {},
   "outputs": [],
   "source": [
    "large_image_stack = tiff.imread('C:/Users/PeterMankowski/mushroom_dataset/med_images/images/training.tif')\n",
    "large_mask_stack = tiff.imread('C:/Users/PeterMankowski/mushroom_dataset/med_images/masks/training_groundtruth.tif')"
   ]
  },
  {
   "cell_type": "code",
   "execution_count": 7,
   "id": "e6b0467a",
   "metadata": {},
   "outputs": [],
   "source": [
    "for img in range(large_image_stack.shape[0]):\n",
    "\n",
    "    large_image = large_image_stack[img]\n",
    "    \n",
    "    patches_img = patchify(large_image, (256, 256), step=256)  #Step=256 for 256 patches means no overlap\n",
    "    \n",
    "    for i in range(patches_img.shape[0]):\n",
    "        for j in range(patches_img.shape[1]):\n",
    "            \n",
    "            single_patch_img = patches_img[i,j,:,:]\n",
    "            tiff.imwrite('C:/Users/PeterMankowski/mushroom_dataset/med_images/patches/images/' + 'image_' + str(img) + '_' + str(i)+str(j)+ \".tif\", single_patch_img)\n",
    "            \n",
    "\n",
    "for msk in range(large_mask_stack.shape[0]):\n",
    "     \n",
    "    large_mask = large_mask_stack[msk]\n",
    "    \n",
    "    patches_mask = patchify(large_mask, (256, 256), step=256)  #Step=256 for 256 patches means no overlap\n",
    "    \n",
    "\n",
    "    for i in range(patches_mask.shape[0]):\n",
    "        for j in range(patches_mask.shape[1]):\n",
    "            \n",
    "            single_patch_mask = patches_mask[i,j,:,:]\n",
    "            tiff.imwrite('C:/Users/PeterMankowski/mushroom_dataset/med_images/patches/masks/' + 'mask_' + str(msk) + '_' + str(i)+str(j)+ \".tif\", single_patch_mask)\n",
    "            single_patch_mask = single_patch_mask / 255."
   ]
  },
  {
   "cell_type": "code",
   "execution_count": null,
   "id": "a14cf78c",
   "metadata": {},
   "outputs": [],
   "source": []
  },
  {
   "cell_type": "code",
   "execution_count": null,
   "id": "ddacb559",
   "metadata": {},
   "outputs": [],
   "source": []
  },
  {
   "cell_type": "code",
   "execution_count": null,
   "id": "4d3d9672",
   "metadata": {},
   "outputs": [],
   "source": []
  },
  {
   "cell_type": "code",
   "execution_count": null,
   "id": "b4dabff3",
   "metadata": {},
   "outputs": [],
   "source": [
    "pri"
   ]
  },
  {
   "cell_type": "code",
   "execution_count": null,
   "id": "195ecde8",
   "metadata": {},
   "outputs": [],
   "source": []
  },
  {
   "cell_type": "code",
   "execution_count": null,
   "id": "06338fc4",
   "metadata": {},
   "outputs": [],
   "source": []
  },
  {
   "cell_type": "code",
   "execution_count": null,
   "id": "47c98b4a",
   "metadata": {},
   "outputs": [],
   "source": []
  },
  {
   "cell_type": "code",
   "execution_count": null,
   "id": "789eeaf7",
   "metadata": {},
   "outputs": [],
   "source": []
  }
 ],
 "metadata": {
  "kernelspec": {
   "display_name": "Python 3 (ipykernel)",
   "language": "python",
   "name": "python3"
  },
  "language_info": {
   "codemirror_mode": {
    "name": "ipython",
    "version": 3
   },
   "file_extension": ".py",
   "mimetype": "text/x-python",
   "name": "python",
   "nbconvert_exporter": "python",
   "pygments_lexer": "ipython3",
   "version": "3.8.15"
  }
 },
 "nbformat": 4,
 "nbformat_minor": 5
}
